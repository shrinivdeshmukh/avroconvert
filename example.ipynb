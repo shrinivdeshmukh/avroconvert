{
 "cells": [
  {
   "cell_type": "code",
   "execution_count": 2,
   "metadata": {},
   "outputs": [],
   "source": [
    "from avroconvert import AvroConvert, gcs_reader, s3_reader, fs_reader"
   ]
  },
  {
   "cell_type": "markdown",
   "metadata": {},
   "source": [
    "## Read file from google cloud storage bucket"
   ]
  },
  {
   "cell_type": "markdown",
   "metadata": {},
   "source": [
    "### Write to parquet"
   ]
  },
  {
   "cell_type": "code",
   "execution_count": null,
   "metadata": {},
   "outputs": [],
   "source": [
    "reader = gcs_reader(auth_file='<SERVICE_ACCOUNT.json>', bucket='<BUCKET_NAME>', \n",
    "                    datatype='avro', prefix='<FILE_PREFIX>')\n",
    "\n",
    "avro_object = AvroConvert(data=reader.get_data())\n",
    "\n",
    "avro_object.to_parquet(outfile='<FOLDER/FILENAME.parquet>')                "
   ]
  },
  {
   "cell_type": "markdown",
   "metadata": {},
   "source": [
    "### Write to csv"
   ]
  },
  {
   "cell_type": "code",
   "execution_count": null,
   "metadata": {},
   "outputs": [],
   "source": [
    "reader = gcs_reader(auth_file='<SERVICE_ACCOUNT.json>', bucket='<BUCKET_NAME>', \n",
    "                    datatype='avro', prefix='<FILE_PREFIX>')\n",
    "\n",
    "avro_object = AvroConvert(data=reader.get_data())\n",
    "\n",
    "avro_object.to_csv(outfile='<FOLDER/FILENAME.csv>')                "
   ]
  },
  {
   "cell_type": "markdown",
   "metadata": {},
   "source": [
    "### Write to json"
   ]
  },
  {
   "cell_type": "code",
   "execution_count": null,
   "metadata": {},
   "outputs": [],
   "source": [
    "reader = gcs_reader(auth_file='<SERVICE_ACCOUNT.json>', bucket='<BUCKET_NAME>', \n",
    "                    datatype='avro', prefix='<FILE_PREFIX>')\n",
    "\n",
    "avro_object = AvroConvert(data=reader.get_data())\n",
    "\n",
    "avro_object.to_json(outfile='<FOLDER/FILENAME.json>')                "
   ]
  },
  {
   "cell_type": "markdown",
   "metadata": {},
   "source": [
    "## Read from S3 bucket"
   ]
  },
  {
   "cell_type": "markdown",
   "metadata": {},
   "source": [
    "### Write to parquet"
   ]
  },
  {
   "cell_type": "code",
   "execution_count": null,
   "metadata": {},
   "outputs": [],
   "source": [
    "reader = s3_reader(access_key='<AWS ACCESS KEY>', secret_key='<AWS SECRET KEY>', session_token='<AWS SESSION TOKEN>(if any)', \n",
    "                   bucket='<S3 BUCKET>', prefix='<FILE PREFIX>', datatype='avro')\n",
    "\n",
    "avro_object = AvroConvert(data=reader.get_data())\n",
    "\n",
    "avro_object.to_parquet(outfile='<FOLDER/FILENAME.parquet>')      "
   ]
  },
  {
   "cell_type": "markdown",
   "metadata": {},
   "source": [
    "### Write to csv"
   ]
  },
  {
   "cell_type": "code",
   "execution_count": null,
   "metadata": {},
   "outputs": [],
   "source": [
    "reader = s3_reader(access_key='<AWS ACCESS KEY>', secret_key='<AWS SECRET KEY>', session_token='<AWS SESSION TOKEN>(if any)', \n",
    "                   bucket='<S3 BUCKET>', prefix='<FILE PREFIX>', datatype='avro')\n",
    "\n",
    "avro_object = AvroConvert(data=reader.get_data())\n",
    "\n",
    "avro_object.to_parquet(outfile='<FOLDER/FILENAME.csv>')      "
   ]
  },
  {
   "cell_type": "markdown",
   "metadata": {},
   "source": [
    "### Write to json"
   ]
  },
  {
   "cell_type": "code",
   "execution_count": null,
   "metadata": {},
   "outputs": [],
   "source": [
    "reader = s3_reader(access_key='<AWS ACCESS KEY>', secret_key='<AWS SECRET KEY>', session_token='<AWS SESSION TOKEN>(if any)', \n",
    "                   bucket='<S3 BUCKET>', prefix='<FILE PREFIX>', datatype='avro')\n",
    "\n",
    "avro_object = AvroConvert(data=reader.get_data())\n",
    "\n",
    "avro_object.to_parquet(outfile='<FOLDER/FILENAME.json>')      "
   ]
  },
  {
   "cell_type": "markdown",
   "metadata": {},
   "source": [
    "## Read from local filesystem"
   ]
  },
  {
   "cell_type": "markdown",
   "metadata": {},
   "source": [
    "### Write to parquet"
   ]
  },
  {
   "cell_type": "code",
   "execution_count": null,
   "metadata": {},
   "outputs": [],
   "source": [
    "reader = fs_reader(folder='<FOLDER NAME>', prefix='<FILE PREFIX>', datatype='avro')\n",
    "\n",
    "avro_object = AvroConvert(data=reader.get_data())\n",
    "\n",
    "avro_object.to_parquet(outfile='<FOLDER/FILENAME.parquet>')      "
   ]
  },
  {
   "cell_type": "markdown",
   "metadata": {},
   "source": [
    "### Write to csv"
   ]
  },
  {
   "cell_type": "code",
   "execution_count": null,
   "metadata": {},
   "outputs": [],
   "source": [
    "reader = fs_reader(folder='<FOLDER NAME>', prefix='<FILE PREFIX>', datatype='avro')\n",
    "\n",
    "avro_object = AvroConvert(data=reader.get_data())\n",
    "\n",
    "avro_object.to_parquet(outfile='<FOLDER/FILENAME.csv>')      "
   ]
  },
  {
   "cell_type": "markdown",
   "metadata": {},
   "source": [
    "### Write to json"
   ]
  },
  {
   "cell_type": "code",
   "execution_count": null,
   "metadata": {},
   "outputs": [],
   "source": [
    "reader = fs_reader(folder='<FOLDER NAME>', prefix='<FILE PREFIX>', datatype='avro')\n",
    "\n",
    "avro_object = AvroConvert(data=reader.get_data())\n",
    "\n",
    "avro_object.to_parquet(outfile='<FOLDER/FILENAME.json>')"
   ]
  },
  {
   "cell_type": "code",
   "execution_count": null,
   "metadata": {},
   "outputs": [],
   "source": []
  }
 ],
 "metadata": {
  "kernelspec": {
   "display_name": "Python 3",
   "language": "python",
   "name": "python3"
  },
  "language_info": {
   "codemirror_mode": {
    "name": "ipython",
    "version": 3
   },
   "file_extension": ".py",
   "mimetype": "text/x-python",
   "name": "python",
   "nbconvert_exporter": "python",
   "pygments_lexer": "ipython3",
   "version": "3.7.9"
  }
 },
 "nbformat": 4,
 "nbformat_minor": 4
}
