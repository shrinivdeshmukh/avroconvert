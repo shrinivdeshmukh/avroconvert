{
 "cells": [
  {
   "cell_type": "code",
   "execution_count": 1,
   "metadata": {},
   "outputs": [],
   "source": [
    "from avroconvert import AvroConvert, gcs_reader, s3_reader\n",
    "from json import dump, dumps, load\n",
    "import pandas as pd"
   ]
  },
  {
   "cell_type": "code",
   "execution_count": 2,
   "metadata": {},
   "outputs": [],
   "source": [
    "read = gcs_reader(auth_file='gcs.json', bucket='test-bucket-1994', datatype='avro', prefix='avf')"
   ]
  },
  {
   "cell_type": "code",
   "execution_count": 3,
   "metadata": {},
   "outputs": [
    {
     "name": "stderr",
     "output_type": "stream",
     "text": [
      "14-Jun-21 10:27:46 - Listing files in GCS\n",
      "14-Jun-21 10:27:46 - Reading file avf.avro from GCS in bytes\n",
      "14-Jun-21 10:27:47 - Reading file avf2.avro from GCS in bytes\n"
     ]
    }
   ],
   "source": [
    "raw_data = read.get_data()"
   ]
  },
  {
   "cell_type": "code",
   "execution_count": 4,
   "metadata": {},
   "outputs": [
    {
     "name": "stderr",
     "output_type": "stream",
     "text": [
      "14-Jun-21 10:27:48 - Converting bytes to avro\n"
     ]
    }
   ],
   "source": [
    "avc = AvroConvert(data=raw_data)"
   ]
  },
  {
   "cell_type": "code",
   "execution_count": 5,
   "metadata": {},
   "outputs": [
    {
     "data": {
      "text/plain": [
       "'folder4/test4/test213.parquet'"
      ]
     },
     "execution_count": 5,
     "metadata": {},
     "output_type": "execute_result"
    }
   ],
   "source": [
    "avc.to_parquet(outfile='folder4/test4/test213.parquet')"
   ]
  },
  {
   "cell_type": "code",
   "execution_count": 6,
   "metadata": {},
   "outputs": [
    {
     "name": "stderr",
     "output_type": "stream",
     "text": [
      "14-Jun-21 10:27:49 - Listing files in GCS\n",
      "14-Jun-21 10:27:49 - Reading file avf.avro from GCS in bytes\n",
      "14-Jun-21 10:27:50 - Reading file avf2.avro from GCS in bytes\n",
      "14-Jun-21 10:27:51 - Converting bytes to avro\n"
     ]
    },
    {
     "data": {
      "text/plain": [
       "'folder1/test1/test213.csv'"
      ]
     },
     "execution_count": 6,
     "metadata": {},
     "output_type": "execute_result"
    }
   ],
   "source": [
    "raw_data = read.get_data()\n",
    "avc = AvroConvert(data=raw_data)\n",
    "avc.to_csv('folder1/test1/test213.csv')"
   ]
  },
  {
   "cell_type": "code",
   "execution_count": 8,
   "metadata": {},
   "outputs": [
    {
     "name": "stderr",
     "output_type": "stream",
     "text": [
      "14-Jun-21 10:28:04 - Listing files in GCS\n",
      "14-Jun-21 10:28:05 - Reading file avf.avro from GCS in bytes\n",
      "14-Jun-21 10:28:06 - Reading file avf2.avro from GCS in bytes\n",
      "14-Jun-21 10:28:07 - Converting bytes to avro\n"
     ]
    },
    {
     "data": {
      "text/plain": [
       "'folder2/test2/test3456.json'"
      ]
     },
     "execution_count": 8,
     "metadata": {},
     "output_type": "execute_result"
    }
   ],
   "source": [
    "raw_data = read.get_data()\n",
    "avc = AvroConvert(data=raw_data)\n",
    "avc.to_json('folder2/test2/test3456.json')"
   ]
  },
  {
   "cell_type": "code",
   "execution_count": 9,
   "metadata": {},
   "outputs": [],
   "source": [
    "import pandas as pd\n",
    "df = pd.read_json('folder2/test2/test3456.json')"
   ]
  },
  {
   "cell_type": "code",
   "execution_count": 10,
   "metadata": {},
   "outputs": [
    {
     "data": {
      "text/plain": [
       "event_date                       2532\n",
       "event_timestamp                  2532\n",
       "event_name                       2532\n",
       "event_params                     2532\n",
       "event_previous_timestamp         2530\n",
       "event_value_in_usd                  0\n",
       "event_bundle_sequence_id         2532\n",
       "event_server_timestamp_offset    2532\n",
       "user_id                          2532\n",
       "user_pseudo_id                   2532\n",
       "user_properties                  2532\n",
       "user_first_touch_timestamp       2532\n",
       "user_ltv                            0\n",
       "device                           2532\n",
       "geo                              2532\n",
       "app_info                         2532\n",
       "traffic_source                   2532\n",
       "stream_id                        2532\n",
       "platform                         2532\n",
       "event_dimensions                    0\n",
       "ecommerce                           0\n",
       "items                            2532\n",
       "dtype: int64"
      ]
     },
     "execution_count": 10,
     "metadata": {},
     "output_type": "execute_result"
    }
   ],
   "source": [
    "df.count()"
   ]
  },
  {
   "cell_type": "code",
   "execution_count": 38,
   "metadata": {},
   "outputs": [],
   "source": [
    "a = '/user/output/abc.csv'"
   ]
  },
  {
   "cell_type": "code",
   "execution_count": 10,
   "metadata": {},
   "outputs": [
    {
     "data": {
      "text/plain": [
       "'/user/output'"
      ]
     },
     "execution_count": 10,
     "metadata": {},
     "output_type": "execute_result"
    }
   ],
   "source": [
    "'/'.join(a.split('/')[:-1])"
   ]
  },
  {
   "cell_type": "code",
   "execution_count": 39,
   "metadata": {},
   "outputs": [],
   "source": [
    "from os import path, walk"
   ]
  },
  {
   "cell_type": "code",
   "execution_count": 40,
   "metadata": {},
   "outputs": [
    {
     "data": {
      "text/plain": [
       "'/user/output'"
      ]
     },
     "execution_count": 40,
     "metadata": {},
     "output_type": "execute_result"
    }
   ],
   "source": [
    "path.dirname(a)"
   ]
  },
  {
   "cell_type": "code",
   "execution_count": 9,
   "metadata": {},
   "outputs": [],
   "source": [
    "\n",
    "with open('data/avf.avro', 'rb') as f:\n",
    "    data = f.read()"
   ]
  },
  {
   "cell_type": "code",
   "execution_count": 10,
   "metadata": {},
   "outputs": [
    {
     "data": {
      "text/plain": [
       "bytes"
      ]
     },
     "execution_count": 10,
     "metadata": {},
     "output_type": "execute_result"
    }
   ],
   "source": [
    "type(data)"
   ]
  },
  {
   "cell_type": "code",
   "execution_count": 11,
   "metadata": {},
   "outputs": [],
   "source": [
    "data_l = [data]"
   ]
  },
  {
   "cell_type": "code",
   "execution_count": 12,
   "metadata": {},
   "outputs": [
    {
     "name": "stderr",
     "output_type": "stream",
     "text": [
      "14-Jun-21 10:32:58 - Converting bytes to avro\n"
     ]
    }
   ],
   "source": [
    "avc = AvroConvert(data=data_l)"
   ]
  },
  {
   "cell_type": "code",
   "execution_count": 13,
   "metadata": {},
   "outputs": [
    {
     "data": {
      "text/plain": [
       "'localfolder/abc.csv'"
      ]
     },
     "execution_count": 13,
     "metadata": {},
     "output_type": "execute_result"
    }
   ],
   "source": [
    "avc.to_csv('localfolder/abc.csv')"
   ]
  },
  {
   "cell_type": "code",
   "execution_count": 16,
   "metadata": {},
   "outputs": [
    {
     "name": "stdout",
     "output_type": "stream",
     "text": [
      "avf2.avro\n",
      "avf.avro\n"
     ]
    }
   ],
   "source": [
    "for _, _, files in walk(\"./data\"):\n",
    "    for file in files:\n",
    "        if file.startswith(\"avf\"):\n",
    "            print(file)"
   ]
  },
  {
   "cell_type": "code",
   "execution_count": 41,
   "metadata": {},
   "outputs": [],
   "source": [
    "a = [path.join(path1,files1) for path1, currentDirectory, files in walk(\"./data\") for files1 in files if files1.startswith(\"avf\")]\n"
   ]
  },
  {
   "cell_type": "code",
   "execution_count": 43,
   "metadata": {},
   "outputs": [],
   "source": [
    "records = list()\n",
    "for avr in a:\n",
    "    with open(avr, 'rb') as f:\n",
    "        data = f.read()\n",
    "    records.append(data)"
   ]
  },
  {
   "cell_type": "code",
   "execution_count": 44,
   "metadata": {},
   "outputs": [
    {
     "data": {
      "text/plain": [
       "2"
      ]
     },
     "execution_count": 44,
     "metadata": {},
     "output_type": "execute_result"
    }
   ],
   "source": [
    "len(records)"
   ]
  },
  {
   "cell_type": "code",
   "execution_count": 45,
   "metadata": {},
   "outputs": [
    {
     "name": "stderr",
     "output_type": "stream",
     "text": [
      "14-Jun-21 10:49:18 - Converting bytes to avro\n"
     ]
    }
   ],
   "source": [
    "avc = AvroConvert(data=records)"
   ]
  },
  {
   "cell_type": "code",
   "execution_count": 46,
   "metadata": {},
   "outputs": [
    {
     "data": {
      "text/plain": [
       "'data/2avro.csv'"
      ]
     },
     "execution_count": 46,
     "metadata": {},
     "output_type": "execute_result"
    }
   ],
   "source": [
    "avc.to_csv('data/2avro.csv')"
   ]
  },
  {
   "cell_type": "code",
   "execution_count": 1,
   "metadata": {},
   "outputs": [],
   "source": [
    "from avroconvert import fs_reader, AvroConvert"
   ]
  },
  {
   "cell_type": "code",
   "execution_count": 2,
   "metadata": {},
   "outputs": [],
   "source": [
    "read = fs_reader(folder='./data', prefix='avf', datatype='avro')"
   ]
  },
  {
   "cell_type": "code",
   "execution_count": 12,
   "metadata": {},
   "outputs": [],
   "source": [
    "raw_data = read.get_data()"
   ]
  },
  {
   "cell_type": "code",
   "execution_count": 13,
   "metadata": {},
   "outputs": [
    {
     "name": "stderr",
     "output_type": "stream",
     "text": [
      "14-Jun-21 10:59:24 - Converting bytes to avro\n"
     ]
    }
   ],
   "source": [
    "avc = AvroConvert(data=raw_data)"
   ]
  },
  {
   "cell_type": "code",
   "execution_count": 14,
   "metadata": {},
   "outputs": [
    {
     "data": {
      "text/plain": [
       "'data/parquet/qwerty.parquet'"
      ]
     },
     "execution_count": 14,
     "metadata": {},
     "output_type": "execute_result"
    }
   ],
   "source": [
    "avc.to_json(\"data/parquet/qwerty.parquet\")"
   ]
  },
  {
   "cell_type": "code",
   "execution_count": null,
   "metadata": {},
   "outputs": [],
   "source": []
  }
 ],
 "metadata": {
  "kernelspec": {
   "display_name": "Python 3",
   "language": "python",
   "name": "python3"
  },
  "language_info": {
   "codemirror_mode": {
    "name": "ipython",
    "version": 3
   },
   "file_extension": ".py",
   "mimetype": "text/x-python",
   "name": "python",
   "nbconvert_exporter": "python",
   "pygments_lexer": "ipython3",
   "version": "3.7.9"
  }
 },
 "nbformat": 4,
 "nbformat_minor": 4
}
